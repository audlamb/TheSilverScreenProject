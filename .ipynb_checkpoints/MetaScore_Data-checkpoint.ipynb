{
 "cells": [
  {
   "cell_type": "code",
   "execution_count": 20,
   "metadata": {},
   "outputs": [],
   "source": [
    "import requests \n",
    "import pandas as pd\n",
    "import json\n",
    "import time\n",
    "from pprint import pprint"
   ]
  },
  {
   "cell_type": "code",
   "execution_count": 22,
   "metadata": {},
   "outputs": [
    {
     "data": {
      "text/html": [
       "<div>\n",
       "<style scoped>\n",
       "    .dataframe tbody tr th:only-of-type {\n",
       "        vertical-align: middle;\n",
       "    }\n",
       "\n",
       "    .dataframe tbody tr th {\n",
       "        vertical-align: top;\n",
       "    }\n",
       "\n",
       "    .dataframe thead th {\n",
       "        text-align: right;\n",
       "    }\n",
       "</style>\n",
       "<table border=\"1\" class=\"dataframe\">\n",
       "  <thead>\n",
       "    <tr style=\"text-align: right;\">\n",
       "      <th></th>\n",
       "      <th>Unnamed: 0</th>\n",
       "      <th>Movie</th>\n",
       "      <th>Release Date</th>\n",
       "      <th>Budget</th>\n",
       "      <th>Revenue</th>\n",
       "      <th>Genres</th>\n",
       "    </tr>\n",
       "  </thead>\n",
       "  <tbody>\n",
       "    <tr>\n",
       "      <th>0</th>\n",
       "      <td>0</td>\n",
       "      <td>Capote</td>\n",
       "      <td>2005-09-30</td>\n",
       "      <td>7000000</td>\n",
       "      <td>49084830</td>\n",
       "      <td>Crime</td>\n",
       "    </tr>\n",
       "    <tr>\n",
       "      <th>1</th>\n",
       "      <td>1</td>\n",
       "      <td>American Hustle</td>\n",
       "      <td>2013-12-12</td>\n",
       "      <td>40000000</td>\n",
       "      <td>251171807</td>\n",
       "      <td>Drama</td>\n",
       "    </tr>\n",
       "  </tbody>\n",
       "</table>\n",
       "</div>"
      ],
      "text/plain": [
       "   Unnamed: 0            Movie Release Date    Budget    Revenue Genres\n",
       "0           0           Capote   2005-09-30   7000000   49084830  Crime\n",
       "1           1  American Hustle   2013-12-12  40000000  251171807  Drama"
      ]
     },
     "execution_count": 22,
     "metadata": {},
     "output_type": "execute_result"
    }
   ],
   "source": [
    "movie_list = pd.read_csv(\"../TheSilverScreenProject/TheMoviedb_query/MovieQuery1_Clean\")\n",
    "movie_list.head(2)"
   ]
  },
  {
   "cell_type": "code",
   "execution_count": 10,
   "metadata": {},
   "outputs": [],
   "source": [
    "url = \"http://www.omdbapi.com/?apikey=trilogy&t=\"\n",
    "#api_key = \"59ef3a43\""
   ]
  },
  {
   "cell_type": "code",
   "execution_count": 24,
   "metadata": {},
   "outputs": [
    {
     "ename": "NameError",
     "evalue": "name 'movies' is not defined",
     "output_type": "error",
     "traceback": [
      "\u001b[1;31m---------------------------------------------------------------------------\u001b[0m",
      "\u001b[1;31mNameError\u001b[0m                                 Traceback (most recent call last)",
      "\u001b[1;32m<ipython-input-24-457ffba1ad16>\u001b[0m in \u001b[0;36m<module>\u001b[1;34m\u001b[0m\n\u001b[0;32m     10\u001b[0m \u001b[0merror_count\u001b[0m \u001b[1;33m=\u001b[0m \u001b[1;36m0\u001b[0m\u001b[1;33m\u001b[0m\u001b[1;33m\u001b[0m\u001b[0m\n\u001b[0;32m     11\u001b[0m \u001b[1;33m\u001b[0m\u001b[0m\n\u001b[1;32m---> 12\u001b[1;33m \u001b[1;32mfor\u001b[0m \u001b[0mmovie\u001b[0m \u001b[1;32min\u001b[0m \u001b[0mmovies\u001b[0m\u001b[1;33m:\u001b[0m\u001b[1;33m\u001b[0m\u001b[1;33m\u001b[0m\u001b[0m\n\u001b[0m\u001b[0;32m     13\u001b[0m \u001b[1;33m\u001b[0m\u001b[0m\n\u001b[0;32m     14\u001b[0m     \u001b[1;32mtry\u001b[0m\u001b[1;33m:\u001b[0m\u001b[1;33m\u001b[0m\u001b[1;33m\u001b[0m\u001b[0m\n",
      "\u001b[1;31mNameError\u001b[0m: name 'movies' is not defined"
     ]
    }
   ],
   "source": [
    "metascore = []\n",
    "movie_name = []\n",
    "imdb_rating = []\n",
    "boxoffice = []\n",
    "rating = []\n",
    "release_date = []\n",
    "production_company = []\n",
    "awards = []\n",
    "\n",
    "call_count = 1\n",
    "error_count = 0\n",
    "\n",
    "for movie in movies:\n",
    "    \n",
    "    try:\n",
    "        print(f'Processing # {call_count} | {movies}')\n",
    "        movie_data = requests.get(url + movie).json()\n",
    "        movie_name.append(movie_data[\"Title\"])\n",
    "        rating.append(movie_data[\"Rated\"])\n",
    "        release_date.append(movie_data[\"Released\"])\n",
    "        metascore.append(movie_data[\"Metascore\"])\n",
    "        imdb_rating.append(movie_data[\"imdb_rating\"])\n",
    "        boxoffice.append(movie_data[\"BoxOffice\"])\n",
    "        awards.append(movie_data[\"Awards\"])\n",
    "        production_company.append(movie_data[\"Production\"]) \n",
    "        \n",
    "    except Exception as error:\n",
    "        print(type(error))\n",
    "        print(str(error))\n",
    "        error_count = error_count + 1 \n",
    "    call_count = call_count + 1 \n",
    "        \n",
    "print(f'--------------- The Search is Over! ---------------')\n",
    "print(f'There were {error_count} errors.)        \n",
    "        \n",
    "        "
   ]
  },
  {
   "cell_type": "code",
   "execution_count": null,
   "metadata": {},
   "outputs": [],
   "source": [
    "metascore_df = pd.dataframe({'Movie': movie_name,\n",
    "                            'Rating': rating,\n",
    "                            'Release Date': release_date,\n",
    "                            'Metascore': metascore,\n",
    "                            'IMDb Rating': imdb_rating,\n",
    "                            'Box Office': boxoffice,\n",
    "                            'Awards': awards,\n",
    "                            'Production Company': production_company})\n",
    "\n",
    "metascore_df = metascore_df.reset_index()\n",
    "del metascore_df['index']\n",
    "\n",
    "metascore_df.head(5)"
   ]
  }
 ],
 "metadata": {
  "kernelspec": {
   "display_name": "my_environment",
   "language": "python",
   "name": "my_environment"
  },
  "language_info": {
   "codemirror_mode": {
    "name": "ipython",
    "version": 3
   },
   "file_extension": ".py",
   "mimetype": "text/x-python",
   "name": "python",
   "nbconvert_exporter": "python",
   "pygments_lexer": "ipython3",
   "version": "3.7.1"
  }
 },
 "nbformat": 4,
 "nbformat_minor": 2
}
