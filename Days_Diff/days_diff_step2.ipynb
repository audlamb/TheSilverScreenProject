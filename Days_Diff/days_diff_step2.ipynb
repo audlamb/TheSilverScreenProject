{
 "cells": [
  {
   "cell_type": "code",
   "execution_count": 6,
   "metadata": {},
   "outputs": [],
   "source": [
    "import pandas as pd\n",
    "import datetime\n",
    "import numpy as np"
   ]
  },
  {
   "cell_type": "code",
   "execution_count": 7,
   "metadata": {},
   "outputs": [
    {
     "data": {
      "text/html": [
       "<div>\n",
       "<style scoped>\n",
       "    .dataframe tbody tr th:only-of-type {\n",
       "        vertical-align: middle;\n",
       "    }\n",
       "\n",
       "    .dataframe tbody tr th {\n",
       "        vertical-align: top;\n",
       "    }\n",
       "\n",
       "    .dataframe thead th {\n",
       "        text-align: right;\n",
       "    }\n",
       "</style>\n",
       "<table border=\"1\" class=\"dataframe\">\n",
       "  <thead>\n",
       "    <tr style=\"text-align: right;\">\n",
       "      <th></th>\n",
       "      <th>Unnamed: 0</th>\n",
       "      <th>Movie</th>\n",
       "      <th>Release Date_x</th>\n",
       "      <th>Award_date</th>\n",
       "      <th>Release Year</th>\n",
       "    </tr>\n",
       "  </thead>\n",
       "  <tbody>\n",
       "    <tr>\n",
       "      <th>0</th>\n",
       "      <td>0</td>\n",
       "      <td>Capote</td>\n",
       "      <td>2005-09-30</td>\n",
       "      <td>2006-03-05</td>\n",
       "      <td>2005.0</td>\n",
       "    </tr>\n",
       "    <tr>\n",
       "      <th>1</th>\n",
       "      <td>1</td>\n",
       "      <td>American Hustle</td>\n",
       "      <td>2013-12-12</td>\n",
       "      <td>2014-03-02</td>\n",
       "      <td>2013.0</td>\n",
       "    </tr>\n",
       "    <tr>\n",
       "      <th>2</th>\n",
       "      <td>2</td>\n",
       "      <td>Brokeback Mountain</td>\n",
       "      <td>2005-09-10</td>\n",
       "      <td>2006-03-05</td>\n",
       "      <td>2005.0</td>\n",
       "    </tr>\n",
       "    <tr>\n",
       "      <th>3</th>\n",
       "      <td>3</td>\n",
       "      <td>Walk the Line</td>\n",
       "      <td>2005-09-13</td>\n",
       "      <td>2006-03-05</td>\n",
       "      <td>2005.0</td>\n",
       "    </tr>\n",
       "    <tr>\n",
       "      <th>4</th>\n",
       "      <td>4</td>\n",
       "      <td>Good Night, and Good Luck.</td>\n",
       "      <td>2005-09-16</td>\n",
       "      <td>2006-03-05</td>\n",
       "      <td>2005.0</td>\n",
       "    </tr>\n",
       "  </tbody>\n",
       "</table>\n",
       "</div>"
      ],
      "text/plain": [
       "   Unnamed: 0                       Movie Release Date_x  Award_date  \\\n",
       "0           0                      Capote     2005-09-30  2006-03-05   \n",
       "1           1             American Hustle     2013-12-12  2014-03-02   \n",
       "2           2          Brokeback Mountain     2005-09-10  2006-03-05   \n",
       "3           3               Walk the Line     2005-09-13  2006-03-05   \n",
       "4           4  Good Night, and Good Luck.     2005-09-16  2006-03-05   \n",
       "\n",
       "   Release Year  \n",
       "0        2005.0  \n",
       "1        2013.0  \n",
       "2        2005.0  \n",
       "3        2005.0  \n",
       "4        2005.0  "
      ]
     },
     "execution_count": 7,
     "metadata": {},
     "output_type": "execute_result"
    }
   ],
   "source": [
    "merge_date_data = '../Days_Diff/Merge_Date.csv'\n",
    "merge_date_df = pd.read_csv(merge_date_data, parse_dates=True)\n",
    "merge_date_df.head()"
   ]
  },
  {
   "cell_type": "code",
   "execution_count": 8,
   "metadata": {},
   "outputs": [
    {
     "data": {
      "text/plain": [
       "Unnamed: 0          int64\n",
       "Movie              object\n",
       "Release Date_x     object\n",
       "Award_date         object\n",
       "Release Year      float64\n",
       "dtype: object"
      ]
     },
     "execution_count": 8,
     "metadata": {},
     "output_type": "execute_result"
    }
   ],
   "source": [
    "#check data type\n",
    "merge_date_df.dtypes"
   ]
  },
  {
   "cell_type": "code",
   "execution_count": 9,
   "metadata": {},
   "outputs": [],
   "source": [
    "#convert 'Award_date' to datetime64[ns]\n",
    "merge_date_df[\"Award_date\"] = pd.to_datetime(merge_date_df['Award_date'])"
   ]
  },
  {
   "cell_type": "code",
   "execution_count": 10,
   "metadata": {},
   "outputs": [
    {
     "data": {
      "text/plain": [
       "Unnamed: 0                 int64\n",
       "Movie                     object\n",
       "Release Date_x            object\n",
       "Award_date        datetime64[ns]\n",
       "Release Year             float64\n",
       "dtype: object"
      ]
     },
     "execution_count": 10,
     "metadata": {},
     "output_type": "execute_result"
    }
   ],
   "source": [
    "#Check types again\n",
    "merge_date_df.dtypes"
   ]
  },
  {
   "cell_type": "code",
   "execution_count": 11,
   "metadata": {},
   "outputs": [],
   "source": [
    "#convert 'Release Date_x' to datetime64[ns]\n",
    "merge_date_df[\"Release Date_x\"] = pd.to_datetime(merge_date_df['Release Date_x'])"
   ]
  },
  {
   "cell_type": "code",
   "execution_count": 12,
   "metadata": {},
   "outputs": [
    {
     "data": {
      "text/plain": [
       "Unnamed: 0                 int64\n",
       "Movie                     object\n",
       "Release Date_x    datetime64[ns]\n",
       "Award_date        datetime64[ns]\n",
       "Release Year             float64\n",
       "dtype: object"
      ]
     },
     "execution_count": 12,
     "metadata": {},
     "output_type": "execute_result"
    }
   ],
   "source": [
    "#Check types again\n",
    "merge_date_df.dtypes"
   ]
  },
  {
   "cell_type": "code",
   "execution_count": 13,
   "metadata": {},
   "outputs": [
    {
     "data": {
      "text/html": [
       "<div>\n",
       "<style scoped>\n",
       "    .dataframe tbody tr th:only-of-type {\n",
       "        vertical-align: middle;\n",
       "    }\n",
       "\n",
       "    .dataframe tbody tr th {\n",
       "        vertical-align: top;\n",
       "    }\n",
       "\n",
       "    .dataframe thead th {\n",
       "        text-align: right;\n",
       "    }\n",
       "</style>\n",
       "<table border=\"1\" class=\"dataframe\">\n",
       "  <thead>\n",
       "    <tr style=\"text-align: right;\">\n",
       "      <th></th>\n",
       "      <th>Unnamed: 0</th>\n",
       "      <th>Movie</th>\n",
       "      <th>Release Date_x</th>\n",
       "      <th>Award_date</th>\n",
       "      <th>Release Year</th>\n",
       "    </tr>\n",
       "  </thead>\n",
       "  <tbody>\n",
       "    <tr>\n",
       "      <th>0</th>\n",
       "      <td>0</td>\n",
       "      <td>Capote</td>\n",
       "      <td>2005-09-30</td>\n",
       "      <td>2006-03-05</td>\n",
       "      <td>2005.0</td>\n",
       "    </tr>\n",
       "    <tr>\n",
       "      <th>1</th>\n",
       "      <td>1</td>\n",
       "      <td>American Hustle</td>\n",
       "      <td>2013-12-12</td>\n",
       "      <td>2014-03-02</td>\n",
       "      <td>2013.0</td>\n",
       "    </tr>\n",
       "    <tr>\n",
       "      <th>2</th>\n",
       "      <td>2</td>\n",
       "      <td>Brokeback Mountain</td>\n",
       "      <td>2005-09-10</td>\n",
       "      <td>2006-03-05</td>\n",
       "      <td>2005.0</td>\n",
       "    </tr>\n",
       "    <tr>\n",
       "      <th>3</th>\n",
       "      <td>3</td>\n",
       "      <td>Walk the Line</td>\n",
       "      <td>2005-09-13</td>\n",
       "      <td>2006-03-05</td>\n",
       "      <td>2005.0</td>\n",
       "    </tr>\n",
       "    <tr>\n",
       "      <th>4</th>\n",
       "      <td>4</td>\n",
       "      <td>Good Night, and Good Luck.</td>\n",
       "      <td>2005-09-16</td>\n",
       "      <td>2006-03-05</td>\n",
       "      <td>2005.0</td>\n",
       "    </tr>\n",
       "  </tbody>\n",
       "</table>\n",
       "</div>"
      ],
      "text/plain": [
       "   Unnamed: 0                       Movie Release Date_x Award_date  \\\n",
       "0           0                      Capote     2005-09-30 2006-03-05   \n",
       "1           1             American Hustle     2013-12-12 2014-03-02   \n",
       "2           2          Brokeback Mountain     2005-09-10 2006-03-05   \n",
       "3           3               Walk the Line     2005-09-13 2006-03-05   \n",
       "4           4  Good Night, and Good Luck.     2005-09-16 2006-03-05   \n",
       "\n",
       "   Release Year  \n",
       "0        2005.0  \n",
       "1        2013.0  \n",
       "2        2005.0  \n",
       "3        2005.0  \n",
       "4        2005.0  "
      ]
     },
     "execution_count": 13,
     "metadata": {},
     "output_type": "execute_result"
    }
   ],
   "source": [
    "merge_date_df.head()"
   ]
  },
  {
   "cell_type": "code",
   "execution_count": 14,
   "metadata": {},
   "outputs": [
    {
     "data": {
      "text/html": [
       "<div>\n",
       "<style scoped>\n",
       "    .dataframe tbody tr th:only-of-type {\n",
       "        vertical-align: middle;\n",
       "    }\n",
       "\n",
       "    .dataframe tbody tr th {\n",
       "        vertical-align: top;\n",
       "    }\n",
       "\n",
       "    .dataframe thead th {\n",
       "        text-align: right;\n",
       "    }\n",
       "</style>\n",
       "<table border=\"1\" class=\"dataframe\">\n",
       "  <thead>\n",
       "    <tr style=\"text-align: right;\">\n",
       "      <th></th>\n",
       "      <th>Unnamed: 0</th>\n",
       "      <th>Movie</th>\n",
       "      <th>Release Date_x</th>\n",
       "      <th>Award_date</th>\n",
       "      <th>Release Year</th>\n",
       "      <th>Days Difference</th>\n",
       "    </tr>\n",
       "  </thead>\n",
       "  <tbody>\n",
       "    <tr>\n",
       "      <th>0</th>\n",
       "      <td>0</td>\n",
       "      <td>Capote</td>\n",
       "      <td>2005-09-30</td>\n",
       "      <td>2006-03-05</td>\n",
       "      <td>2005.0</td>\n",
       "      <td>156 days</td>\n",
       "    </tr>\n",
       "    <tr>\n",
       "      <th>1</th>\n",
       "      <td>1</td>\n",
       "      <td>American Hustle</td>\n",
       "      <td>2013-12-12</td>\n",
       "      <td>2014-03-02</td>\n",
       "      <td>2013.0</td>\n",
       "      <td>80 days</td>\n",
       "    </tr>\n",
       "    <tr>\n",
       "      <th>2</th>\n",
       "      <td>2</td>\n",
       "      <td>Brokeback Mountain</td>\n",
       "      <td>2005-09-10</td>\n",
       "      <td>2006-03-05</td>\n",
       "      <td>2005.0</td>\n",
       "      <td>176 days</td>\n",
       "    </tr>\n",
       "    <tr>\n",
       "      <th>3</th>\n",
       "      <td>3</td>\n",
       "      <td>Walk the Line</td>\n",
       "      <td>2005-09-13</td>\n",
       "      <td>2006-03-05</td>\n",
       "      <td>2005.0</td>\n",
       "      <td>173 days</td>\n",
       "    </tr>\n",
       "    <tr>\n",
       "      <th>4</th>\n",
       "      <td>4</td>\n",
       "      <td>Good Night, and Good Luck.</td>\n",
       "      <td>2005-09-16</td>\n",
       "      <td>2006-03-05</td>\n",
       "      <td>2005.0</td>\n",
       "      <td>170 days</td>\n",
       "    </tr>\n",
       "  </tbody>\n",
       "</table>\n",
       "</div>"
      ],
      "text/plain": [
       "   Unnamed: 0                       Movie Release Date_x Award_date  \\\n",
       "0           0                      Capote     2005-09-30 2006-03-05   \n",
       "1           1             American Hustle     2013-12-12 2014-03-02   \n",
       "2           2          Brokeback Mountain     2005-09-10 2006-03-05   \n",
       "3           3               Walk the Line     2005-09-13 2006-03-05   \n",
       "4           4  Good Night, and Good Luck.     2005-09-16 2006-03-05   \n",
       "\n",
       "   Release Year Days Difference  \n",
       "0        2005.0        156 days  \n",
       "1        2013.0         80 days  \n",
       "2        2005.0        176 days  \n",
       "3        2005.0        173 days  \n",
       "4        2005.0        170 days  "
      ]
     },
     "execution_count": 14,
     "metadata": {},
     "output_type": "execute_result"
    }
   ],
   "source": [
    "#Get days difference value from Release Date to Award Date\n",
    "merge_date_df['Days Difference'] = merge_date_df['Award_date'].sub(merge_date_df['Release Date_x'], axis=0)\n",
    "merge_date_df.head()         "
   ]
  },
  {
   "cell_type": "code",
   "execution_count": 16,
   "metadata": {},
   "outputs": [],
   "source": [
    "#save as a CSV file\n",
    "merge_date_df.to_csv('Day_Diff.csv')"
   ]
  }
 ],
 "metadata": {
  "kernelspec": {
   "display_name": "my_en_short",
   "language": "python",
   "name": "my_en_short"
  },
  "language_info": {
   "codemirror_mode": {
    "name": "ipython",
    "version": 3
   },
   "file_extension": ".py",
   "mimetype": "text/x-python",
   "name": "python",
   "nbconvert_exporter": "python",
   "pygments_lexer": "ipython3",
   "version": "3.7.0"
  }
 },
 "nbformat": 4,
 "nbformat_minor": 2
}
