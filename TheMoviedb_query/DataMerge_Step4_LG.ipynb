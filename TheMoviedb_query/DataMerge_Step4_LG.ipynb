{
 "cells": [
  {
   "cell_type": "code",
   "execution_count": 1,
   "metadata": {},
   "outputs": [],
   "source": [
    "import pandas as pd\n",
    "import csv\n",
    "import numpy as np"
   ]
  },
  {
   "cell_type": "code",
   "execution_count": 2,
   "metadata": {},
   "outputs": [],
   "source": [
    "query1_data = 'TheSilverScreenProject/TheMoviedb_query/MovieQuery1_Clean'\n",
    "query2_data = 'TheSilverScreenProject/TheMoviedb_query/MovieQuery2_Clean'\n",
    "\n",
    "query1_df = pd.read_csv(query1_data)\n",
    "query2_df = pd.read_csv(query2_data)"
   ]
  },
  {
   "cell_type": "code",
   "execution_count": 3,
   "metadata": {},
   "outputs": [
    {
     "data": {
      "text/html": [
       "<div>\n",
       "<style scoped>\n",
       "    .dataframe tbody tr th:only-of-type {\n",
       "        vertical-align: middle;\n",
       "    }\n",
       "\n",
       "    .dataframe tbody tr th {\n",
       "        vertical-align: top;\n",
       "    }\n",
       "\n",
       "    .dataframe thead th {\n",
       "        text-align: right;\n",
       "    }\n",
       "</style>\n",
       "<table border=\"1\" class=\"dataframe\">\n",
       "  <thead>\n",
       "    <tr style=\"text-align: right;\">\n",
       "      <th></th>\n",
       "      <th>Unnamed: 0</th>\n",
       "      <th>Movie</th>\n",
       "      <th>Release Date</th>\n",
       "      <th>Budget</th>\n",
       "      <th>Revenue</th>\n",
       "      <th>Genres</th>\n",
       "    </tr>\n",
       "  </thead>\n",
       "  <tbody>\n",
       "    <tr>\n",
       "      <th>0</th>\n",
       "      <td>0</td>\n",
       "      <td>Capote</td>\n",
       "      <td>2005-09-30</td>\n",
       "      <td>7000000</td>\n",
       "      <td>49084830</td>\n",
       "      <td>Crime</td>\n",
       "    </tr>\n",
       "    <tr>\n",
       "      <th>1</th>\n",
       "      <td>1</td>\n",
       "      <td>American Hustle</td>\n",
       "      <td>2013-12-12</td>\n",
       "      <td>40000000</td>\n",
       "      <td>251171807</td>\n",
       "      <td>Drama</td>\n",
       "    </tr>\n",
       "    <tr>\n",
       "      <th>2</th>\n",
       "      <td>2</td>\n",
       "      <td>Brokeback Mountain</td>\n",
       "      <td>2005-09-10</td>\n",
       "      <td>14000000</td>\n",
       "      <td>178043761</td>\n",
       "      <td>Drama</td>\n",
       "    </tr>\n",
       "    <tr>\n",
       "      <th>3</th>\n",
       "      <td>3</td>\n",
       "      <td>Walk the Line</td>\n",
       "      <td>2005-09-13</td>\n",
       "      <td>28000000</td>\n",
       "      <td>186438883</td>\n",
       "      <td>Drama</td>\n",
       "    </tr>\n",
       "    <tr>\n",
       "      <th>4</th>\n",
       "      <td>4</td>\n",
       "      <td>Good Night, and Good Luck.</td>\n",
       "      <td>2005-09-16</td>\n",
       "      <td>7000000</td>\n",
       "      <td>54600000</td>\n",
       "      <td>Drama</td>\n",
       "    </tr>\n",
       "  </tbody>\n",
       "</table>\n",
       "</div>"
      ],
      "text/plain": [
       "   Unnamed: 0                       Movie Release Date    Budget    Revenue  \\\n",
       "0           0                      Capote   2005-09-30   7000000   49084830   \n",
       "1           1             American Hustle   2013-12-12  40000000  251171807   \n",
       "2           2          Brokeback Mountain   2005-09-10  14000000  178043761   \n",
       "3           3               Walk the Line   2005-09-13  28000000  186438883   \n",
       "4           4  Good Night, and Good Luck.   2005-09-16   7000000   54600000   \n",
       "\n",
       "  Genres  \n",
       "0  Crime  \n",
       "1  Drama  \n",
       "2  Drama  \n",
       "3  Drama  \n",
       "4  Drama  "
      ]
     },
     "execution_count": 3,
     "metadata": {},
     "output_type": "execute_result"
    }
   ],
   "source": [
    "query1_df.head()"
   ]
  },
  {
   "cell_type": "code",
   "execution_count": 5,
   "metadata": {},
   "outputs": [
    {
     "data": {
      "text/plain": [
       "Unnamed: 0      206\n",
       "Movie           206\n",
       "Release Date    204\n",
       "Budget          206\n",
       "Revenue         206\n",
       "Genres          206\n",
       "dtype: int64"
      ]
     },
     "execution_count": 5,
     "metadata": {},
     "output_type": "execute_result"
    }
   ],
   "source": [
    "query1_df.count()"
   ]
  },
  {
   "cell_type": "code",
   "execution_count": 4,
   "metadata": {},
   "outputs": [
    {
     "data": {
      "text/html": [
       "<div>\n",
       "<style scoped>\n",
       "    .dataframe tbody tr th:only-of-type {\n",
       "        vertical-align: middle;\n",
       "    }\n",
       "\n",
       "    .dataframe tbody tr th {\n",
       "        vertical-align: top;\n",
       "    }\n",
       "\n",
       "    .dataframe thead th {\n",
       "        text-align: right;\n",
       "    }\n",
       "</style>\n",
       "<table border=\"1\" class=\"dataframe\">\n",
       "  <thead>\n",
       "    <tr style=\"text-align: right;\">\n",
       "      <th></th>\n",
       "      <th>Unnamed: 0</th>\n",
       "      <th>Movie</th>\n",
       "      <th>Release Date</th>\n",
       "      <th>Budget</th>\n",
       "      <th>Revenue</th>\n",
       "      <th>Genres</th>\n",
       "    </tr>\n",
       "  </thead>\n",
       "  <tbody>\n",
       "    <tr>\n",
       "      <th>0</th>\n",
       "      <td>0</td>\n",
       "      <td>Terrence Howard's Fright Club</td>\n",
       "      <td>2018-05-24</td>\n",
       "      <td>0</td>\n",
       "      <td>0</td>\n",
       "      <td>Comedy</td>\n",
       "    </tr>\n",
       "    <tr>\n",
       "      <th>1</th>\n",
       "      <td>1</td>\n",
       "      <td>I Am Heath Ledger</td>\n",
       "      <td>2017-04-23</td>\n",
       "      <td>0</td>\n",
       "      <td>0</td>\n",
       "      <td>Documentary</td>\n",
       "    </tr>\n",
       "    <tr>\n",
       "      <th>2</th>\n",
       "      <td>2</td>\n",
       "      <td>I'm Still Here</td>\n",
       "      <td>2010-09-10</td>\n",
       "      <td>0</td>\n",
       "      <td>0</td>\n",
       "      <td>Music</td>\n",
       "    </tr>\n",
       "    <tr>\n",
       "      <th>3</th>\n",
       "      <td>3</td>\n",
       "      <td>Being George Clooney</td>\n",
       "      <td>2016-02-06</td>\n",
       "      <td>0</td>\n",
       "      <td>0</td>\n",
       "      <td>Documentary</td>\n",
       "    </tr>\n",
       "    <tr>\n",
       "      <th>4</th>\n",
       "      <td>4</td>\n",
       "      <td>Cold Souls</td>\n",
       "      <td>2009-08-07</td>\n",
       "      <td>0</td>\n",
       "      <td>0</td>\n",
       "      <td>Comedy</td>\n",
       "    </tr>\n",
       "  </tbody>\n",
       "</table>\n",
       "</div>"
      ],
      "text/plain": [
       "   Unnamed: 0                          Movie Release Date  Budget  Revenue  \\\n",
       "0           0  Terrence Howard's Fright Club   2018-05-24       0        0   \n",
       "1           1              I Am Heath Ledger   2017-04-23       0        0   \n",
       "2           2                 I'm Still Here   2010-09-10       0        0   \n",
       "3           3           Being George Clooney   2016-02-06       0        0   \n",
       "4           4                     Cold Souls   2009-08-07       0        0   \n",
       "\n",
       "        Genres  \n",
       "0       Comedy  \n",
       "1  Documentary  \n",
       "2        Music  \n",
       "3  Documentary  \n",
       "4       Comedy  "
      ]
     },
     "execution_count": 4,
     "metadata": {},
     "output_type": "execute_result"
    }
   ],
   "source": [
    "query2_df.head()"
   ]
  },
  {
   "cell_type": "code",
   "execution_count": 6,
   "metadata": {},
   "outputs": [
    {
     "data": {
      "text/plain": [
       "Unnamed: 0      562\n",
       "Movie           562\n",
       "Release Date    555\n",
       "Budget          562\n",
       "Revenue         562\n",
       "Genres          562\n",
       "dtype: int64"
      ]
     },
     "execution_count": 6,
     "metadata": {},
     "output_type": "execute_result"
    }
   ],
   "source": [
    "query2_df.count()"
   ]
  },
  {
   "cell_type": "code",
   "execution_count": 7,
   "metadata": {},
   "outputs": [
    {
     "data": {
      "text/html": [
       "<div>\n",
       "<style scoped>\n",
       "    .dataframe tbody tr th:only-of-type {\n",
       "        vertical-align: middle;\n",
       "    }\n",
       "\n",
       "    .dataframe tbody tr th {\n",
       "        vertical-align: top;\n",
       "    }\n",
       "\n",
       "    .dataframe thead th {\n",
       "        text-align: right;\n",
       "    }\n",
       "</style>\n",
       "<table border=\"1\" class=\"dataframe\">\n",
       "  <thead>\n",
       "    <tr style=\"text-align: right;\">\n",
       "      <th></th>\n",
       "      <th>Unnamed: 0</th>\n",
       "      <th>Movie</th>\n",
       "      <th>Release Date</th>\n",
       "      <th>Budget</th>\n",
       "      <th>Revenue</th>\n",
       "      <th>Genres</th>\n",
       "    </tr>\n",
       "  </thead>\n",
       "  <tbody>\n",
       "    <tr>\n",
       "      <th>0</th>\n",
       "      <td>0</td>\n",
       "      <td>Capote</td>\n",
       "      <td>2005-09-30</td>\n",
       "      <td>7000000</td>\n",
       "      <td>49084830</td>\n",
       "      <td>Crime</td>\n",
       "    </tr>\n",
       "    <tr>\n",
       "      <th>1</th>\n",
       "      <td>1</td>\n",
       "      <td>American Hustle</td>\n",
       "      <td>2013-12-12</td>\n",
       "      <td>40000000</td>\n",
       "      <td>251171807</td>\n",
       "      <td>Drama</td>\n",
       "    </tr>\n",
       "    <tr>\n",
       "      <th>2</th>\n",
       "      <td>2</td>\n",
       "      <td>Brokeback Mountain</td>\n",
       "      <td>2005-09-10</td>\n",
       "      <td>14000000</td>\n",
       "      <td>178043761</td>\n",
       "      <td>Drama</td>\n",
       "    </tr>\n",
       "    <tr>\n",
       "      <th>3</th>\n",
       "      <td>3</td>\n",
       "      <td>Walk the Line</td>\n",
       "      <td>2005-09-13</td>\n",
       "      <td>28000000</td>\n",
       "      <td>186438883</td>\n",
       "      <td>Drama</td>\n",
       "    </tr>\n",
       "    <tr>\n",
       "      <th>4</th>\n",
       "      <td>4</td>\n",
       "      <td>Good Night, and Good Luck.</td>\n",
       "      <td>2005-09-16</td>\n",
       "      <td>7000000</td>\n",
       "      <td>54600000</td>\n",
       "      <td>Drama</td>\n",
       "    </tr>\n",
       "  </tbody>\n",
       "</table>\n",
       "</div>"
      ],
      "text/plain": [
       "   Unnamed: 0                       Movie Release Date    Budget    Revenue  \\\n",
       "0           0                      Capote   2005-09-30   7000000   49084830   \n",
       "1           1             American Hustle   2013-12-12  40000000  251171807   \n",
       "2           2          Brokeback Mountain   2005-09-10  14000000  178043761   \n",
       "3           3               Walk the Line   2005-09-13  28000000  186438883   \n",
       "4           4  Good Night, and Good Luck.   2005-09-16   7000000   54600000   \n",
       "\n",
       "  Genres  \n",
       "0  Crime  \n",
       "1  Drama  \n",
       "2  Drama  \n",
       "3  Drama  \n",
       "4  Drama  "
      ]
     },
     "execution_count": 7,
     "metadata": {},
     "output_type": "execute_result"
    }
   ],
   "source": [
    "mergedquery_df = query1_df.append(query2_df)\n",
    "mergedquery_df.head()"
   ]
  },
  {
   "cell_type": "code",
   "execution_count": 8,
   "metadata": {},
   "outputs": [
    {
     "data": {
      "text/plain": [
       "Unnamed: 0      768\n",
       "Movie           768\n",
       "Release Date    759\n",
       "Budget          768\n",
       "Revenue         768\n",
       "Genres          768\n",
       "dtype: int64"
      ]
     },
     "execution_count": 8,
     "metadata": {},
     "output_type": "execute_result"
    }
   ],
   "source": [
    "mergedquery_df.count()"
   ]
  },
  {
   "cell_type": "code",
   "execution_count": 12,
   "metadata": {},
   "outputs": [
    {
     "data": {
      "text/plain": [
       "Revolutionary Road                                                                     2\n",
       "The Reader                                                                             2\n",
       "The Wolf of Wall Street                                                                2\n",
       "Being George Clooney                                                                   2\n",
       "127 Hours                                                                              2\n",
       "The Hateful Eight                                                                      2\n",
       "Into the Woods                                                                         2\n",
       "Winter's Bone                                                                          2\n",
       "Silver Linings Playbook                                                                2\n",
       "Borat: Cultural Learnings of America for Make Benefit Glorious Nation of Kazakhstan    2\n",
       "Doubt                                                                                  2\n",
       "Django Unchained                                                                       2\n",
       "Frost/Nixon                                                                            2\n",
       "Carol                                                                                  2\n",
       "Blue Jasmine                                                                           2\n",
       "Biutiful                                                                               2\n",
       "Walk the Line                                                                          2\n",
       "Mrs Henderson Presents                                                                 2\n",
       "Capote                                                                                 2\n",
       "The Imitation Game                                                                     2\n",
       "An Education                                                                           2\n",
       "Syriana                                                                                2\n",
       "Bridesmaids                                                                            2\n",
       "Nine                                                                                   2\n",
       "Albert Nobbs                                                                           2\n",
       "Crash                                                                                  2\n",
       "Dreamgirls                                                                             2\n",
       "The King's Speech                                                                      2\n",
       "Whiplash                                                                               2\n",
       "No Country for Old Men                                                                 2\n",
       "                                                                                      ..\n",
       "Crisis Hotline: Veterans Press 1                                                       1\n",
       "Pentecost                                                                              1\n",
       "Shaun the Sheep Movie                                                                  1\n",
       "The Wrestler                                                                           1\n",
       "From Russia with Love                                                                  1\n",
       "French Roast                                                                           1\n",
       "In Bruges                                                                              1\n",
       "Strangers No More                                                                      1\n",
       "Alice in Wonderland                                                                    1\n",
       "Nightcrawler                                                                           1\n",
       "How to Train Your Dragon                                                               1\n",
       "Persepolis                                                                             1\n",
       "China's Unnatural Disaster: The Tears of Sichuan Province                              1\n",
       "Eastern Promises                                                                       1\n",
       "Wanted                                                                                 1\n",
       "El Chapo & Sean Penn: Bungle in the Jungle                                             1\n",
       "הערת שוליים                                                                            1\n",
       "Der Baader Meinhof Komplex                                                             1\n",
       "Hereafter                                                                              1\n",
       "Vanad ja kobedad saavad jalad alla                                                     1\n",
       "Theeb‎‎                                                                                1\n",
       "The Chronicles of Narnia: The Lion, the Witch and the Wardrobe                         1\n",
       "The Little Matchgirl                                                                   1\n",
       "Inside Job                                                                             1\n",
       "Madame Tutli-Putli                                                                     1\n",
       "Eros, o Deus do Amor                                                                   1\n",
       "Trouble the Water                                                                      1\n",
       "Il Divo                                                                                1\n",
       "Saving Mr. Banks                                                                       1\n",
       "Which Way Home                                                                         1\n",
       "Name: Movie, Length: 659, dtype: int64"
      ]
     },
     "execution_count": 12,
     "metadata": {},
     "output_type": "execute_result"
    }
   ],
   "source": [
    "mergedquery_df['Movie'].value_counts()"
   ]
  },
  {
   "cell_type": "code",
   "execution_count": 13,
   "metadata": {},
   "outputs": [
    {
     "data": {
      "text/html": [
       "<div>\n",
       "<style scoped>\n",
       "    .dataframe tbody tr th:only-of-type {\n",
       "        vertical-align: middle;\n",
       "    }\n",
       "\n",
       "    .dataframe tbody tr th {\n",
       "        vertical-align: top;\n",
       "    }\n",
       "\n",
       "    .dataframe thead th {\n",
       "        text-align: right;\n",
       "    }\n",
       "</style>\n",
       "<table border=\"1\" class=\"dataframe\">\n",
       "  <thead>\n",
       "    <tr style=\"text-align: right;\">\n",
       "      <th></th>\n",
       "      <th>Unnamed: 0</th>\n",
       "      <th>Movie</th>\n",
       "      <th>Release Date</th>\n",
       "      <th>Budget</th>\n",
       "      <th>Revenue</th>\n",
       "      <th>Genres</th>\n",
       "    </tr>\n",
       "  </thead>\n",
       "  <tbody>\n",
       "    <tr>\n",
       "      <th>0</th>\n",
       "      <td>0</td>\n",
       "      <td>Capote</td>\n",
       "      <td>2005-09-30</td>\n",
       "      <td>7000000</td>\n",
       "      <td>49084830</td>\n",
       "      <td>Crime</td>\n",
       "    </tr>\n",
       "    <tr>\n",
       "      <th>1</th>\n",
       "      <td>1</td>\n",
       "      <td>American Hustle</td>\n",
       "      <td>2013-12-12</td>\n",
       "      <td>40000000</td>\n",
       "      <td>251171807</td>\n",
       "      <td>Drama</td>\n",
       "    </tr>\n",
       "    <tr>\n",
       "      <th>2</th>\n",
       "      <td>2</td>\n",
       "      <td>Brokeback Mountain</td>\n",
       "      <td>2005-09-10</td>\n",
       "      <td>14000000</td>\n",
       "      <td>178043761</td>\n",
       "      <td>Drama</td>\n",
       "    </tr>\n",
       "    <tr>\n",
       "      <th>3</th>\n",
       "      <td>3</td>\n",
       "      <td>Walk the Line</td>\n",
       "      <td>2005-09-13</td>\n",
       "      <td>28000000</td>\n",
       "      <td>186438883</td>\n",
       "      <td>Drama</td>\n",
       "    </tr>\n",
       "    <tr>\n",
       "      <th>4</th>\n",
       "      <td>4</td>\n",
       "      <td>Good Night, and Good Luck.</td>\n",
       "      <td>2005-09-16</td>\n",
       "      <td>7000000</td>\n",
       "      <td>54600000</td>\n",
       "      <td>Drama</td>\n",
       "    </tr>\n",
       "  </tbody>\n",
       "</table>\n",
       "</div>"
      ],
      "text/plain": [
       "   Unnamed: 0                       Movie Release Date    Budget    Revenue  \\\n",
       "0           0                      Capote   2005-09-30   7000000   49084830   \n",
       "1           1             American Hustle   2013-12-12  40000000  251171807   \n",
       "2           2          Brokeback Mountain   2005-09-10  14000000  178043761   \n",
       "3           3               Walk the Line   2005-09-13  28000000  186438883   \n",
       "4           4  Good Night, and Good Luck.   2005-09-16   7000000   54600000   \n",
       "\n",
       "  Genres  \n",
       "0  Crime  \n",
       "1  Drama  \n",
       "2  Drama  \n",
       "3  Drama  \n",
       "4  Drama  "
      ]
     },
     "execution_count": 13,
     "metadata": {},
     "output_type": "execute_result"
    }
   ],
   "source": [
    "mergedquery_df.head()"
   ]
  },
  {
   "cell_type": "code",
   "execution_count": 14,
   "metadata": {},
   "outputs": [
    {
     "data": {
      "text/html": [
       "<div>\n",
       "<style scoped>\n",
       "    .dataframe tbody tr th:only-of-type {\n",
       "        vertical-align: middle;\n",
       "    }\n",
       "\n",
       "    .dataframe tbody tr th {\n",
       "        vertical-align: top;\n",
       "    }\n",
       "\n",
       "    .dataframe thead th {\n",
       "        text-align: right;\n",
       "    }\n",
       "</style>\n",
       "<table border=\"1\" class=\"dataframe\">\n",
       "  <thead>\n",
       "    <tr style=\"text-align: right;\">\n",
       "      <th></th>\n",
       "      <th>Movie</th>\n",
       "      <th>Release Date</th>\n",
       "      <th>Budget</th>\n",
       "      <th>Revenue</th>\n",
       "      <th>Genres</th>\n",
       "    </tr>\n",
       "  </thead>\n",
       "  <tbody>\n",
       "    <tr>\n",
       "      <th>0</th>\n",
       "      <td>Capote</td>\n",
       "      <td>2005-09-30</td>\n",
       "      <td>7000000</td>\n",
       "      <td>49084830</td>\n",
       "      <td>Crime</td>\n",
       "    </tr>\n",
       "    <tr>\n",
       "      <th>1</th>\n",
       "      <td>American Hustle</td>\n",
       "      <td>2013-12-12</td>\n",
       "      <td>40000000</td>\n",
       "      <td>251171807</td>\n",
       "      <td>Drama</td>\n",
       "    </tr>\n",
       "    <tr>\n",
       "      <th>2</th>\n",
       "      <td>Brokeback Mountain</td>\n",
       "      <td>2005-09-10</td>\n",
       "      <td>14000000</td>\n",
       "      <td>178043761</td>\n",
       "      <td>Drama</td>\n",
       "    </tr>\n",
       "    <tr>\n",
       "      <th>3</th>\n",
       "      <td>Walk the Line</td>\n",
       "      <td>2005-09-13</td>\n",
       "      <td>28000000</td>\n",
       "      <td>186438883</td>\n",
       "      <td>Drama</td>\n",
       "    </tr>\n",
       "    <tr>\n",
       "      <th>4</th>\n",
       "      <td>Good Night, and Good Luck.</td>\n",
       "      <td>2005-09-16</td>\n",
       "      <td>7000000</td>\n",
       "      <td>54600000</td>\n",
       "      <td>Drama</td>\n",
       "    </tr>\n",
       "  </tbody>\n",
       "</table>\n",
       "</div>"
      ],
      "text/plain": [
       "                        Movie Release Date    Budget    Revenue Genres\n",
       "0                      Capote   2005-09-30   7000000   49084830  Crime\n",
       "1             American Hustle   2013-12-12  40000000  251171807  Drama\n",
       "2          Brokeback Mountain   2005-09-10  14000000  178043761  Drama\n",
       "3               Walk the Line   2005-09-13  28000000  186438883  Drama\n",
       "4  Good Night, and Good Luck.   2005-09-16   7000000   54600000  Drama"
      ]
     },
     "execution_count": 14,
     "metadata": {},
     "output_type": "execute_result"
    }
   ],
   "source": [
    "mergedquery_df = mergedquery_df[['Movie','Release Date', 'Budget', 'Revenue', 'Genres']]\n",
    "mergedquery_df.head()"
   ]
  },
  {
   "cell_type": "code",
   "execution_count": 17,
   "metadata": {},
   "outputs": [
    {
     "data": {
      "text/html": [
       "<div>\n",
       "<style scoped>\n",
       "    .dataframe tbody tr th:only-of-type {\n",
       "        vertical-align: middle;\n",
       "    }\n",
       "\n",
       "    .dataframe tbody tr th {\n",
       "        vertical-align: top;\n",
       "    }\n",
       "\n",
       "    .dataframe thead th {\n",
       "        text-align: right;\n",
       "    }\n",
       "</style>\n",
       "<table border=\"1\" class=\"dataframe\">\n",
       "  <thead>\n",
       "    <tr style=\"text-align: right;\">\n",
       "      <th></th>\n",
       "      <th>Movie</th>\n",
       "      <th>Release Date</th>\n",
       "      <th>Budget</th>\n",
       "      <th>Revenue</th>\n",
       "      <th>Genres</th>\n",
       "    </tr>\n",
       "  </thead>\n",
       "  <tbody>\n",
       "    <tr>\n",
       "      <th>0</th>\n",
       "      <td>Capote</td>\n",
       "      <td>2005-09-30</td>\n",
       "      <td>7000000</td>\n",
       "      <td>49084830</td>\n",
       "      <td>Crime</td>\n",
       "    </tr>\n",
       "    <tr>\n",
       "      <th>1</th>\n",
       "      <td>American Hustle</td>\n",
       "      <td>2013-12-12</td>\n",
       "      <td>40000000</td>\n",
       "      <td>251171807</td>\n",
       "      <td>Drama</td>\n",
       "    </tr>\n",
       "    <tr>\n",
       "      <th>2</th>\n",
       "      <td>Brokeback Mountain</td>\n",
       "      <td>2005-09-10</td>\n",
       "      <td>14000000</td>\n",
       "      <td>178043761</td>\n",
       "      <td>Drama</td>\n",
       "    </tr>\n",
       "    <tr>\n",
       "      <th>3</th>\n",
       "      <td>Walk the Line</td>\n",
       "      <td>2005-09-13</td>\n",
       "      <td>28000000</td>\n",
       "      <td>186438883</td>\n",
       "      <td>Drama</td>\n",
       "    </tr>\n",
       "    <tr>\n",
       "      <th>4</th>\n",
       "      <td>Good Night, and Good Luck.</td>\n",
       "      <td>2005-09-16</td>\n",
       "      <td>7000000</td>\n",
       "      <td>54600000</td>\n",
       "      <td>Drama</td>\n",
       "    </tr>\n",
       "  </tbody>\n",
       "</table>\n",
       "</div>"
      ],
      "text/plain": [
       "                        Movie Release Date    Budget    Revenue Genres\n",
       "0                      Capote   2005-09-30   7000000   49084830  Crime\n",
       "1             American Hustle   2013-12-12  40000000  251171807  Drama\n",
       "2          Brokeback Mountain   2005-09-10  14000000  178043761  Drama\n",
       "3               Walk the Line   2005-09-13  28000000  186438883  Drama\n",
       "4  Good Night, and Good Luck.   2005-09-16   7000000   54600000  Drama"
      ]
     },
     "execution_count": 17,
     "metadata": {},
     "output_type": "execute_result"
    }
   ],
   "source": [
    "mergedquery_df_clean = mergedquery_df.drop_duplicates(keep= 'first')\n",
    "mergedquery_df_clean.reset_index(inplace=True, drop=True)\n",
    "mergedquery_df_clean.head()"
   ]
  },
  {
   "cell_type": "code",
   "execution_count": 20,
   "metadata": {},
   "outputs": [
    {
     "data": {
      "text/plain": [
       "Movie           659\n",
       "Release Date    650\n",
       "Budget          659\n",
       "Revenue         659\n",
       "Genres          659\n",
       "dtype: int64"
      ]
     },
     "execution_count": 20,
     "metadata": {},
     "output_type": "execute_result"
    }
   ],
   "source": [
    "mergedquery_df_clean['Movie'].value_counts()\n",
    "mergedquery_df_clean.count()"
   ]
  },
  {
   "cell_type": "code",
   "execution_count": 21,
   "metadata": {},
   "outputs": [
    {
     "data": {
      "text/plain": [
       "Movie           650\n",
       "Release Date    650\n",
       "Budget          650\n",
       "Revenue         650\n",
       "Genres          650\n",
       "dtype: int64"
      ]
     },
     "execution_count": 21,
     "metadata": {},
     "output_type": "execute_result"
    }
   ],
   "source": [
    "mergedquery_df_clean2 = mergedquery_df_clean.dropna(how = 'any')\n",
    "mergedquery_df_clean2.count()"
   ]
  },
  {
   "cell_type": "code",
   "execution_count": 23,
   "metadata": {},
   "outputs": [
    {
     "name": "stdout",
     "output_type": "stream",
     "text": [
      "['Capote', 'American Hustle', 'Brokeback Mountain', 'Walk the Line', 'Good Night, and Good Luck.', 'Syriana', 'Crash', 'Cinderella Man', 'A History of Violence', 'Mrs Henderson Presents', 'Transamerica', 'Pride', 'North Country', 'Junebug', 'The Constant Gardener', '宮崎駿とジブリ美術館', \"Lee Marvin and Angie Dickinson in Steve Reich's 'Clapping Music'\", 'Being George Clooney', 'Абдулладжан, или Посвящается Стивену Спилбергу', 'Little Italy', 'Made in France', 'Es war einmal in Deutschland', 'Mumford & Sons Live from South Africa: Dust & Thunder', 'A John Williams Celebration', 'King Richard And The Crusaders', 'Blood Diamond', 'Half Nelson', 'Venus', 'The Pursuit of Happyness', 'The Last King of Scotland', 'Little Miss Sunshine', 'Little Children', 'Dreamgirls', 'The Departed', 'Volver', 'Notes on a Scandal', 'The Queen', 'The Devil Wears Prada', 'Babel', 'Close Encounters with Vilmos Zsigmond', 'A Personal Journey with Martin Scorsese Through American Movies', 'Danmark', 'Good Luck Algeria', 'Philip Glass: Looking Glass', 'Bandes Originales: Alexandre Desplat', 'Michael Clayton', 'There Will Be Blood', 'Sweeney Todd: The Demon Barber of Fleet Street', 'In the Valley of Elah', 'Eastern Promises', 'The Assassination of Jesse James by the Coward Robert Ford', 'No Country for Old Men', \"Charlie Wilson's War\", 'Into the Wild', 'Elizabeth: The Golden Age', 'Away from Her', 'La Môme', 'The Savages', 'Juno', \"I'm Not There.\", 'American Gangster', 'Atonement', 'Gone Baby Gone', 'Julian Schnabel: A Private Portrait', 'A Christmas Eve Conversation With Quentin Tarantino & Paul Thomas Anderson', 'Roman J. Israel, Esq.', 'Ленин в Польше', 'Borat: Cultural Learnings of America for Make Benefit Glorious Nation of Kazakhstan', 'From Russia with Love', 'The Visitor', 'Frost/Nixon', 'Milk', 'The Curious Case of Benjamin Button', 'The Wrestler', 'Tropic Thunder', 'Doubt', 'The Dark Knight', 'Revolutionary Road', 'Rachel Getting Married', 'Changeling', 'Frozen River', 'The Reader', 'Vicky Cristina Barcelona', 'The Vice Guide to Film: David Fincher', 'Last Days', 'Sunshine', 'A Christmas Carol', 'iCarly: iGo to Japan', \"Live From Lincoln Center: Danny Elfman's Music from the Films of Tim Burton\", 'One Heart: The A.R. Rahman Concert Film', 'Crazy Heart', 'Up in the Air', 'A Single Man', 'Invictus', 'The Hurt Locker', 'The Messenger', 'The Last Station', 'The Lovely Bones', 'Inglourious Basterds', 'The Blind Side', 'An Education', 'Precious', 'Julie & Julia', 'Nine', 'Wes Anderson: From Above', 'Titanic: The Final Word with James Cameron', 'Quentin Tarantino: 20 Years of Filmmaking', 'The Butler', 'എന്\\u200dറെ ഉമ്മാന്\\u200dറെ പേര്', 'Imagining Argentina', 'Hans Zimmer: Live in Prague', 'Biutiful', 'True Grit', 'The Social Network', \"The King's Speech\", '127 Hours', 'The Fighter', \"Winter's Bone\", 'The Town', 'The Kids Are All Right', 'Rabbit Hole', 'Black Swan', 'Blue Valentine', 'Animal Kingdom', 'A Better Life', 'The Descendants', 'The Artist', 'Tinker Tailor Soldier Spy', 'Moneyball', 'My Week with Marilyn', 'Warrior', 'Beginners', 'Extremely Loud & Incredibly Close', 'Albert Nobbs', 'The Help', 'The Girl with the Dragon Tattoo', 'The Iron Lady', 'Bridesmaids', 'La corrupción de Chris Miller', 'Rango', 'Woody Allen: A Documentary', 'Rosy-Fingered Dawn: A Film on Terrence Malick', 'The Living Daylights', 'Aanrijding in Moscou', 'Silver Linings Playbook', 'Lincoln', 'Les Misérables', 'The Master', 'Flight', 'Argo', 'Django Unchained', 'Zero Dark Thirty', 'Amour', 'Beasts of the Southern Wild', 'Lo imposible', 'The Sessions', 'Corpse Bride', 'Νορβηγία', 'Pes', 'Before I Disappear', 'Nebraska', 'The Wolf of Wall Street', '12 Years a Slave', 'Dallas Buyers Club', 'Captain Phillips', 'Blue Jasmine', 'Gravity', 'Philomena', 'August: Osage County', 'Intrusion: Cambodia', 'Palestine, Palestine', 'Foxcatcher', 'American Sniper', 'The Imitation Game', 'Birdman', 'The Theory of Everything', 'The Judge', 'Boyhood', 'Whiplash', 'Deux jours, une nuit', 'Still Alice', 'Gone Girl', 'Wild', 'Into the Woods', '21 Years: Richard Linklater', 'Vanad ja kobedad saavad jalad alla', 'Trumbo', 'The Martian', 'The Revenant', 'Steve Jobs', 'The Danish Girl', 'The Big Short', 'Spotlight', 'Bridge of Spies', 'Creed', 'Carol', 'Room', 'Joy', '45 Years', 'Brooklyn', 'The Hateful Eight', 'Behind Enemy Lines III: Colombia', 'Puskás Hungary', 'The Simpsons: Don Hertzfeldt Couch Gag', \"Terrence Howard's Fright Club\", 'I Am Heath Ledger', \"I'm Still Here\", 'Cold Souls', 'Jake Gyllenhaal Challenges the Winner of the Nobel Peace Prize', 'Judi Dench: My Passion for Trees', 'ハウルの動く城', 'Wallace & Gromit: The Curse of the Were-Rabbit', 'Harry Potter and the Goblet of Fire', 'King Kong', 'Memoirs of a Geisha', 'Batman Begins', 'The Thinning: New World Order', 'Charlie and the Chocolate Factory', 'Munich', \"Darwin's Nightmare\", 'Enron: The Smartest Guys in the Room', \"La Marche de l'empereur\", 'Murderball', 'Street Fight', 'The Death of Kevin Carter: Casualty of the Bang Bang Club', \"Don't Tell\", 'Joyeux Noël', 'Paradise Now', 'Sophie Scholl – Die letzten Tage', 'Tsotsi', 'The Chronicles of Narnia: The Lion, the Witch and the Wardrobe', 'Star Wars: Episode III - Revenge of the Sith', 'Badgered', 'The Mysterious Geographic Explorations of Jasper Morello', '9', 'One Man Band', 'Cashback', 'Síðasti bærinn', 'Our Time Is Up', 'Six Shooter', 'War of the Worlds', 'Match Point', 'The Squid and the Whale', 'A Prairie Home Companion', 'Ryan Gosling - Hollywoods Halbgott', 'Eddie Murphy Raw', 'When Harry Met Sally 2 with Billy Crystal and Helen Mirren', 'Cars', 'Happy Feet', 'Monster House', 'The Good Shepherd', 'El laberinto del fauno', \"Pirates of the Caribbean: Dead Man's Chest\", 'The Prestige', 'The Black Dahlia', 'Children of Men', 'The Illusionist', '滿城盡帶黃金甲', 'Marie Antoinette', 'Letters from Iwo Jima', 'United 93', 'Deliver Us from Evil', 'An Inconvenient Truth', 'Iraq in Fragments', 'Jesus Camp', 'My Country No More', 'The Blood of Yingzhou District', 'Recycled Life', 'Two Hands', 'Efter brylluppet', 'Indigènes', 'Das Leben der Anderen', 'The Shape of Water', 'Apocalypto', 'Click', 'The Good German', 'The Danish Poet', 'Lifted', 'The Little Matchgirl', 'Maestro', 'No Time for Nuts', 'Binta y la gran idea', 'Helmer & søn', 'Sultan: The Saviour', 'West Bank Story', 'Flags of Our Fathers', 'Poseidon', 'Superman Returns', 'Ennio Morricone: Arena concerto - la musica per il cinema', 'Johnny Depp - Idol, Rebell und Superstar', 'Tilda Swinton: The Love Factory', 'Persepolis', 'Ratatouille', \"Surf's Up\", 'The Golden Compass', 'Le scaphandre et le papillon', 'Across the Universe', 'No End in Sight', 'Operation Homecoming: Writing the Wartime Experience', 'Sicko', 'Taxi to the Dark Side', 'War Dance', 'Freeheld', 'La corona partida', 'The Bourne Ultimatum', 'בופור', 'The Counterfeiters', 'Katyń', 'Монгол', '12', 'Norbit', \"Pirates of the Caribbean: At World's End\", 'The Kite Runner', '3:10 to Yuma', 'I Met the Walrus', 'Madame Tutli-Putli', 'Peter Pan', 'Night at the Museum', 'Transformers', 'Lars and the Real Girl', 'El Chapo & Sean Penn: Bungle in the Jungle', 'Michael Shannon Michael Shannon John', 'One Day', 'Bolt', 'Kung Fu Panda', 'Wall Street', 'The Duchess', 'Slumdog Millionaire', 'Australia', 'The Betrayal (Nerakhoon)', 'Encounters at the End of the World', 'The Secret Garden', 'Man on Wire', 'Trouble the Water', 'The Conscience of Nhem En', 'Smile Pinki', 'Der Baader Meinhof Komplex', 'Front of the Class', 'Departures', 'Revanche', 'Vals Im Bashir', 'Hellboy II: The Golden Army', 'Defiance', 'つみきのいえ', 'Уборная история — любовная история', 'Oktapodi', 'Presto', 'This Way Up', 'The Only Living Boy in New York', 'Babe: Pig in the City', 'Spielzeugland', 'Iron Man', 'Wanted', 'Happy-Go-Lucky', 'In Bruges', 'The Nutty Professor', 'Morgan Freeman Science Show - Esistono universi paralleli', 'Meeting Matt Damon', 'Premonition', 'Coraline', 'Fantastic Mr. Fox', 'The Princess and the Frog', 'The Secret of Kells', 'Up', 'Avatar', 'The Imaginarium of Doctor Parnassus', 'Sherlock Holmes', 'The Young Victoria', 'Harry Potter and the Half-Blood Prince', 'Das weisse Band', 'Bright Star', 'Coco avant Chanel', 'Burma VJ: Reporter i et lukket land', 'The Cove', 'Food, Inc.', 'The Most Dangerous Man in America: Daniel Ellsberg and the Pentagon Papers', 'Which Way Home', \"China's Unnatural Disaster: The Tears of Sichuan Province\", 'The Last Truck: Closing of a GM Plant', 'Music by Prudence', 'Królik po berlinsku', 'District 9', 'Ajami', 'La teta asustada', 'Anthem of a Teenage Prophet', 'El secreto de sus ojos', 'Il Divo', 'Star Trek', 'A Serious Man', 'French Roast', \"Granny O'Grimm's Sleeping Beauty\", 'The Lady and the Reaper', 'Logorama', 'A Matter of Loaf and Death', 'The Girl Next Door', 'Instead of Abracadabra', 'കവി ഉദ്ദേശിച്ചത് ..?', 'Miracle Fish', 'The New Tenants', 'Transformers: Revenge of the Fallen', 'In the Loop', 'Lauren Bacall, ombre et lumière', \"Roger Corman: Hollywood's Wild Angel\", 'Comedy Central Roast of James Franco', 'Kathy Griffin is... Not Nicole Kidman', 'Natalie Portman: Starting Young', 'How to Train Your Dragon', 'Toy Story 3', 'Alice in Wonderland', 'Harry Potter and the Deathly Hallows: Part 1', 'Inception', 'Он - дракон', 'The Tempest', 'Exit Through the Gift Shop', 'Gasland', 'Inside Job', 'Restrepo', 'Waste Land', 'Strangers No More', 'Κυνόδοντας', 'Hævnen', 'Incendies', 'Hors-la-loi', \"Barney's Version\", 'The Way Way Back', 'The Wolfman', 'Groundhog Day', 'The Gruffalo', 'The Lost Thing', 'The Confession', 'The Crush', 'Eros, o Deus do Amor', 'Na Wewe', 'Wish 143', 'TRON: Legacy', 'Unstoppable', 'Salt', 'Hereafter', 'Iron Man 2', 'Another Year', 'Jean-Luc Cinema Godard', \"Hearts of Darkness: A Filmmaker's Apocalypse\", \"Kenneth Branagh Theatre Company Live: The Winter's Tale\", 'Nick Nolte: No Exit', 'Max Von Sydow: Dialogues with The Renter', 'Une vie de chat', 'Chico & Rita', 'Kung Fu Panda 2', 'Puss in Boots', 'Harry Potter and the Deathly Hallows: Part 2', 'Hugo', 'Midnight in Paris', 'War Horse', 'The Tree of Life', 'Anonymous', 'Jane Eyre', 'W.E.', 'Hell and Back Again', 'If a Tree Falls: A Story of the Earth Liberation Front', 'Paradise Lost 3: Purgatory', 'Pina', 'Undefeated', 'The Barber of Birmingham: Foot Soldier of the Civil Rights Movement', 'God is the Bigger Elvis', 'Incident in New Baghdad', 'Saving Face', 'The Tsunami and the Cherry Blossom', 'Rundskop', 'הערת שוליים', 'In Darkness', 'Monsieur Lazhar', 'جدایی نادر از سیمین', 'The Adventures of Tintin', 'Any Given Sunday', 'The Fantastic Flying Books of Mr Morris Lessmore', 'La Luna', 'Robinson Crusoe: The Wild Life', 'Pentecost', 'Raju Gadu', 'Love at the Shore', 'Time Freak', 'Tuba Atlantic', 'Drive', 'Transformers: Dark of the Moon', 'Real Steel', 'Rise of the Planet of the Apes', 'The Ides of March', 'Margin Call', \"Mitch Albom's For One More Day\", 'Alles wegen Robert De Niro', 'Brave', 'Frankenweenie', 'ParaNorman', 'The Pirates! In an Adventure with Scientists!', 'Wreck-It Ralph', 'Anna Karenina', 'Life of Pi', 'Skyfall', 'Mirror Mirror', 'Snow White and the Huntsman', 'Five Broken Cameras', 'The Gatekeepers', 'How to Survive a Plague', 'The Invisible War', 'Searching for Sugar Man', 'Born Innocent', 'Aprimi il cuore', 'The Shawshank Redemption', 'Kon-Tiki', 'Dr. No', 'En kongelig affære', 'Rebelle', 'Hitchcock', 'The Hobbit: An Unexpected Journey', 'Adam and Dog', 'Fresh Guacamole', 'Head Over Heels', 'Maggie Simpson in The Longest Daycare', 'Paperman', 'Curfew', 'Hardcore Henry', 'The Avengers', 'Prometheus', 'Moonrise Kingdom', 'Jill Drew and D.A. Pennebaker', \"George Stevens Jr. On 'Woman of the Year'\", 'The Croods', 'Despicable Me 2', 'Ernest et Célestine', 'Frozen', '風立ちぬ', '一代宗師', 'Inside Llewyn Davis', 'Prisoners', 'The Great Gatsby', 'The Invisible Woman', 'Jagal', 'Cutie and the Boxer', 'Dirty Wars', 'The Square', '20 Feet from Stardom', 'Cavedigger', 'Karama Has No Walls', 'The Broken Circle Breakdown', 'The Great American Beauty Contest', 'Hunt for the Wilderpeople', \"L'image manquante\", \"Omar m'a tuer\", 'Jackass Presents: Bad Grandpa', 'The Lone Ranger', 'The Book Thief', 'Her', 'Saving Mr. Banks', 'Feral', 'Get a Horse!', 'Mr Hublot', \"Ava's Possessions\", 'Room on the Broom', 'Avant que de tout perdre', 'Helium', 'The Voorman Problem', 'All Is Lost', 'The Hobbit: The Desolation of Smaug', 'Lone Survivor', 'Iron Man 3', 'Star Trek Into Darkness', 'Before Midnight', 'Steve Martin Live', 'They All Laughed 25 Years Later: Director to Director - A Conversation with Peter Bogdanovich and Wes Anderson', 'Big Hero 6', 'The Boxtrolls', 'How to Train Your Dragon 2', 'Song of the Sea', 'かぐや姫の物語', 'The Grand Budapest Hotel', 'Ida', 'Mr. Turner', 'Unbroken', 'Inherent Vice', 'Maleficent', 'Citizenfour', 'Finding Vivian Maier', 'Last Days in Vietnam', 'Salt of the Earth', 'Virunga', 'Crisis Hotline: Veterans Press 1', 'Joanna', 'Nasza klątwa', 'White Earth', 'Leviathan', 'Mandariinid', 'Timbuktu', 'Relatos salvajes', 'Guardians of the Galaxy', 'Interstellar', 'Selma', 'The Bigger Picture', 'The Dam Keeper', 'Feast', 'Moulton og meg', 'A Single Life', 'Boogaloo and Graham', 'Parvaneh', 'The Phone Call', 'The Hobbit: The Battle of the Five Armies', 'Captain America: The Winter Soldier', 'Dawn of the Planet of the Apes', 'X-Men: Days of Future Past', 'Nightcrawler', 'Sing Your Song', 'Busy Bodies', 'Driven', 'Charlotte Rampling: The Look', 'Anomalisa', 'O Menino e o Mundo', 'Inside Out', 'Shaun the Sheep Movie', '思い出のマーニー', 'Mad Max: Fury Road', 'Sicario', 'Cinderella', 'Amy', 'Cartel Land', 'The Look of Silence', 'What Happened, Miss Simone?', \"Winter on Fire: Ukraine's Fight for Freedom\", 'Body Team 12', 'Chau, Beyond the Lines', 'A Girl in the River: The Price of Forgiveness', 'Last Day of Freedom', 'Star Wars: The Force Awakens', 'El Abrazo de la Serpiente', 'Mustang', 'Saul fia', 'Theeb\\u200e\\u200e', 'A Private War', 'Hundraåringen som klev ut genom fönstret och försvann', 'The Bath Song & More Kids Songs: Super Simple Songs', 'Historia de un oso', 'Prologue', \"Sanjay's Super Team\", 'Мы не можем жить без космоса', 'World of Tomorrow', 'Ave Maria', 'Shok', 'Stutterer', 'Ex Machina', 'Straight Outta Compton', 'Bright Lights: Starring Carrie Fisher and Debbie Reynolds', 'He Got Game']\n"
     ]
    }
   ],
   "source": [
    "final_movielist = mergedquery_df_clean2['Movie'].tolist()\n",
    "print(final_movielist)"
   ]
  },
  {
   "cell_type": "code",
   "execution_count": 29,
   "metadata": {},
   "outputs": [],
   "source": [
    "mergedquery_df_clean2.to_csv('Mergedquery_clean.csv')"
   ]
  },
  {
   "cell_type": "code",
   "execution_count": null,
   "metadata": {},
   "outputs": [],
   "source": []
  }
 ],
 "metadata": {
  "kernelspec": {
   "display_name": "myenvironment",
   "language": "python",
   "name": "myenvironment"
  },
  "language_info": {
   "codemirror_mode": {
    "name": "ipython",
    "version": 3
   },
   "file_extension": ".py",
   "mimetype": "text/x-python",
   "name": "python",
   "nbconvert_exporter": "python",
   "pygments_lexer": "ipython3",
   "version": "3.6.7"
  }
 },
 "nbformat": 4,
 "nbformat_minor": 2
}
