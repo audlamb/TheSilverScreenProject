{
 "cells": [
  {
   "cell_type": "code",
   "execution_count": 1,
   "metadata": {},
   "outputs": [],
   "source": [
    "import requests\n",
    "import json\n",
    "from pprint import pprint\n",
    "import pandas as pd"
   ]
  },
  {
   "cell_type": "code",
   "execution_count": 2,
   "metadata": {},
   "outputs": [],
   "source": [
    "url = \"https://api.themoviedb.org/3/search/movie?\"\n",
    "api_key = \"api_key=98e159931ae83a9fde8ba0f8c795951d\"\n",
    "search_k = \"&query=\"\n",
    "#https://api.themoviedb.org/3/search/movie?api_key=59603ef5601ecf216609fd23c9186175&query=Gladiator"
   ]
  },
  {
   "cell_type": "code",
   "execution_count": 17,
   "metadata": {},
   "outputs": [],
   "source": [
    "user_input = 'the wolf of wall street'"
   ]
  },
  {
   "cell_type": "code",
   "execution_count": 18,
   "metadata": {},
   "outputs": [
    {
     "name": "stdout",
     "output_type": "stream",
     "text": [
      "https://api.themoviedb.org/3/search/movie?api_key=98e159931ae83a9fde8ba0f8c795951d&query=the%20wolf%20of%20wall%20street\n"
     ]
    }
   ],
   "source": [
    "response = requests.get(url + api_key + search_k + user_input)\n",
    "print(response.url)"
   ]
  },
  {
   "cell_type": "code",
   "execution_count": 19,
   "metadata": {},
   "outputs": [
    {
     "name": "stdout",
     "output_type": "stream",
     "text": [
      "{'page': 1,\n",
      " 'results': [{'adult': False,\n",
      "              'backdrop_path': '/rP36Rx5RQh0rmH2ynEIaG8DxbV2.jpg',\n",
      "              'genre_ids': [80, 18, 35],\n",
      "              'id': 106646,\n",
      "              'original_language': 'en',\n",
      "              'original_title': 'The Wolf of Wall Street',\n",
      "              'overview': 'A New York stockbroker refuses to cooperate in a '\n",
      "                          'large securities fraud case involving corruption on '\n",
      "                          'Wall Street, corporate banking world and mob '\n",
      "                          \"infiltration. Based on Jordan Belfort's \"\n",
      "                          'autobiography.',\n",
      "              'popularity': 23.996,\n",
      "              'poster_path': '/vK1o5rZGqxyovfIhZyMELhk03wO.jpg',\n",
      "              'release_date': '2013-12-25',\n",
      "              'title': 'The Wolf of Wall Street',\n",
      "              'video': False,\n",
      "              'vote_average': 7.9,\n",
      "              'vote_count': 10654},\n",
      "             {'adult': False,\n",
      "              'backdrop_path': None,\n",
      "              'genre_ids': [],\n",
      "              'id': 423766,\n",
      "              'original_language': 'en',\n",
      "              'original_title': 'The Wolf of Wall Street',\n",
      "              'overview': 'A ruthless stockbroker sells short in the copper '\n",
      "                          'business and ruins the life of his friends by '\n",
      "                          'ruining their finances.',\n",
      "              'popularity': 0.6,\n",
      "              'poster_path': '/aNGsE1nVtQHu4pvPzNvqVaczztb.jpg',\n",
      "              'release_date': '1929-02-09',\n",
      "              'title': 'The Wolf of Wall Street',\n",
      "              'video': False,\n",
      "              'vote_average': 0,\n",
      "              'vote_count': 0}],\n",
      " 'total_pages': 1,\n",
      " 'total_results': 2}\n"
     ]
    }
   ],
   "source": [
    "data = response.json()\n",
    "pprint(data)"
   ]
  },
  {
   "cell_type": "code",
   "execution_count": 28,
   "metadata": {},
   "outputs": [
    {
     "name": "stdout",
     "output_type": "stream",
     "text": [
      "106646\n"
     ]
    }
   ],
   "source": [
    "#print(type(data))\n",
    "#print(data['results'][0])\n",
    "data2= data['results']\n",
    "print(data2[0]['id'])"
   ]
  },
  {
   "cell_type": "code",
   "execution_count": 29,
   "metadata": {},
   "outputs": [
    {
     "name": "stdout",
     "output_type": "stream",
     "text": [
      "{'adult': False,\n",
      " 'backdrop_path': '/rP36Rx5RQh0rmH2ynEIaG8DxbV2.jpg',\n",
      " 'belongs_to_collection': None,\n",
      " 'budget': 100000000,\n",
      " 'genres': [{'id': 80, 'name': 'Crime'},\n",
      "            {'id': 18, 'name': 'Drama'},\n",
      "            {'id': 35, 'name': 'Comedy'}],\n",
      " 'homepage': 'http://www.thewolfofwallstreet.com/',\n",
      " 'id': 106646,\n",
      " 'imdb_id': 'tt0993846',\n",
      " 'original_language': 'en',\n",
      " 'original_title': 'The Wolf of Wall Street',\n",
      " 'overview': 'A New York stockbroker refuses to cooperate in a large '\n",
      "             'securities fraud case involving corruption on Wall Street, '\n",
      "             'corporate banking world and mob infiltration. Based on Jordan '\n",
      "             \"Belfort's autobiography.\",\n",
      " 'popularity': 23.996,\n",
      " 'poster_path': '/vK1o5rZGqxyovfIhZyMELhk03wO.jpg',\n",
      " 'production_companies': [{'id': 14654,\n",
      "                           'logo_path': None,\n",
      "                           'name': 'EMJAG Productions',\n",
      "                           'origin_country': ''},\n",
      "                          {'id': 4,\n",
      "                           'logo_path': '/fycMZt242LVjagMByZOLUGbCvv3.png',\n",
      "                           'name': 'Paramount',\n",
      "                           'origin_country': 'US'},\n",
      "                          {'id': 19177,\n",
      "                           'logo_path': None,\n",
      "                           'name': 'Red Granite Pictures',\n",
      "                           'origin_country': ''},\n",
      "                          {'id': 562,\n",
      "                           'logo_path': '/k3NsSdV854UX4zEReX1dl1Psxbb.png',\n",
      "                           'name': 'Appian Way',\n",
      "                           'origin_country': 'US'},\n",
      "                          {'id': 23243,\n",
      "                           'logo_path': None,\n",
      "                           'name': 'Sikelia Productions',\n",
      "                           'origin_country': ''}],\n",
      " 'production_countries': [{'iso_3166_1': 'US',\n",
      "                           'name': 'United States of America'}],\n",
      " 'release_date': '2013-12-25',\n",
      " 'revenue': 392000694,\n",
      " 'runtime': 180,\n",
      " 'spoken_languages': [{'iso_639_1': 'fr', 'name': 'Français'},\n",
      "                      {'iso_639_1': 'en', 'name': 'English'}],\n",
      " 'status': 'Released',\n",
      " 'tagline': 'EARN. SPEND. PARTY.',\n",
      " 'title': 'The Wolf of Wall Street',\n",
      " 'video': False,\n",
      " 'vote_average': 7.9,\n",
      " 'vote_count': 10657}\n"
     ]
    }
   ],
   "source": [
    "import requests\n",
    "\n",
    "url2 = \"https://api.themoviedb.org/3/movie/106646\"\n",
    "api_key = \"api_key=98e159931ae83a9fde8ba0f8c795951d\"\n",
    "payload = \"{}\"\n",
    "response = requests.request(\"GET\", url2 + \"?&\" + api_key, data=payload)\n",
    "\n",
    "pprint(response.json())"
   ]
  },
  {
   "cell_type": "code",
   "execution_count": 30,
   "metadata": {},
   "outputs": [],
   "source": [
    "#json_data = response.json()\n",
    "#print(type(response.json()))"
   ]
  },
  {
   "cell_type": "code",
   "execution_count": 31,
   "metadata": {},
   "outputs": [
    {
     "name": "stdout",
     "output_type": "stream",
     "text": [
      "dict_keys(['_content', '_content_consumed', '_next', 'status_code', 'headers', 'raw', 'url', 'encoding', 'history', 'reason', 'cookies', 'elapsed', 'request', 'connection'])\n"
     ]
    }
   ],
   "source": [
    "#print(json_data)\n",
    "print(response.__dict__.keys())"
   ]
  },
  {
   "cell_type": "code",
   "execution_count": 32,
   "metadata": {},
   "outputs": [
    {
     "name": "stdout",
     "output_type": "stream",
     "text": [
      "['__attrs__', '__bool__', '__class__', '__delattr__', '__dict__', '__dir__', '__doc__', '__enter__', '__eq__', '__exit__', '__format__', '__ge__', '__getattribute__', '__getstate__', '__gt__', '__hash__', '__init__', '__init_subclass__', '__iter__', '__le__', '__lt__', '__module__', '__ne__', '__new__', '__nonzero__', '__reduce__', '__reduce_ex__', '__repr__', '__setattr__', '__setstate__', '__sizeof__', '__str__', '__subclasshook__', '__weakref__', '_content', '_content_consumed', '_next', 'apparent_encoding', 'close', 'connection', 'content', 'cookies', 'elapsed', 'encoding', 'headers', 'history', 'is_permanent_redirect', 'is_redirect', 'iter_content', 'iter_lines', 'json', 'links', 'next', 'ok', 'raise_for_status', 'raw', 'reason', 'request', 'status_code', 'text', 'url']\n"
     ]
    }
   ],
   "source": [
    "print(dir(response))"
   ]
  },
  {
   "cell_type": "code",
   "execution_count": 33,
   "metadata": {},
   "outputs": [
    {
     "name": "stdout",
     "output_type": "stream",
     "text": [
      "103000000\n",
      "2000-05-01\n",
      "457640427\n",
      "Action\n",
      "Gladiator\n"
     ]
    }
   ],
   "source": [
    "print(json_data['budget'])\n",
    "print(json_data['release_date'])\n",
    "print(json_data['revenue'])\n",
    "#print(json_data['genres'])\n",
    "print((json_data['genres'][0])['name'])\n",
    "print(json_data['original_title'])"
   ]
  },
  {
   "cell_type": "code",
   "execution_count": 34,
   "metadata": {},
   "outputs": [
    {
     "data": {
      "text/html": [
       "<div>\n",
       "<style scoped>\n",
       "    .dataframe tbody tr th:only-of-type {\n",
       "        vertical-align: middle;\n",
       "    }\n",
       "\n",
       "    .dataframe tbody tr th {\n",
       "        vertical-align: top;\n",
       "    }\n",
       "\n",
       "    .dataframe thead th {\n",
       "        text-align: right;\n",
       "    }\n",
       "</style>\n",
       "<table border=\"1\" class=\"dataframe\">\n",
       "  <thead>\n",
       "    <tr style=\"text-align: right;\">\n",
       "      <th></th>\n",
       "      <th>Movie</th>\n",
       "      <th>Release Date</th>\n",
       "      <th>Revenue</th>\n",
       "      <th>Genres</th>\n",
       "    </tr>\n",
       "  </thead>\n",
       "  <tbody>\n",
       "  </tbody>\n",
       "</table>\n",
       "</div>"
      ],
      "text/plain": [
       "Empty DataFrame\n",
       "Columns: [Movie, Release Date, Revenue, Genres]\n",
       "Index: []"
      ]
     },
     "execution_count": 34,
     "metadata": {},
     "output_type": "execute_result"
    }
   ],
   "source": [
    "movie_list = ['Gladiator', 'the wolf of wall street', 'Up', 'The Departed']\n",
    "movies_df = pd.DataFrame(columns = [\"Movie\", \"Release Date\", \"Revenue\", \"Genres\"])\n",
    "call_count = 1\n",
    "sets = 1\n",
    "index = 0\n",
    "movies_df.head()"
   ]
  },
  {
   "cell_type": "code",
   "execution_count": 35,
   "metadata": {},
   "outputs": [
    {
     "name": "stdout",
     "output_type": "stream",
     "text": [
      "Processing Record 1 of set1 | Gladiator\n",
      "https://api.themoviedb.org/3/movie/106646\n"
     ]
    },
    {
     "name": "stderr",
     "output_type": "stream",
     "text": [
      "c:\\users\\jorge\\anaconda3\\envs\\myenvironment\\lib\\site-packages\\ipykernel_launcher.py:8: FutureWarning: set_value is deprecated and will be removed in a future release. Please use .at[] or .iat[] accessors instead\n",
      "  \n",
      "c:\\users\\jorge\\anaconda3\\envs\\myenvironment\\lib\\site-packages\\ipykernel_launcher.py:9: FutureWarning: set_value is deprecated and will be removed in a future release. Please use .at[] or .iat[] accessors instead\n",
      "  if __name__ == '__main__':\n",
      "c:\\users\\jorge\\anaconda3\\envs\\myenvironment\\lib\\site-packages\\ipykernel_launcher.py:10: FutureWarning: set_value is deprecated and will be removed in a future release. Please use .at[] or .iat[] accessors instead\n",
      "  # Remove the CWD from sys.path while we load stuff.\n",
      "c:\\users\\jorge\\anaconda3\\envs\\myenvironment\\lib\\site-packages\\ipykernel_launcher.py:11: FutureWarning: set_value is deprecated and will be removed in a future release. Please use .at[] or .iat[] accessors instead\n",
      "  # This is added back by InteractiveShellApp.init_path()\n"
     ]
    },
    {
     "name": "stdout",
     "output_type": "stream",
     "text": [
      "Processing Record 2 of set1 | the wolf of wall street\n",
      "https://api.themoviedb.org/3/movie/106646\n",
      "Processing Record 3 of set1 | Up\n",
      "https://api.themoviedb.org/3/movie/106646\n",
      "Processing Record 4 of set1 | The Departed\n",
      "https://api.themoviedb.org/3/movie/106646\n"
     ]
    }
   ],
   "source": [
    "\n",
    "for movie in movie_list:\n",
    "    try:\n",
    "        print(f'Processing Record {call_count} of set{sets} | {movie}')\n",
    "        print(url2)\n",
    "        response = requests.request(\"GET\", url2 + \"?&\" + api_key, data=payload)\n",
    "        json_data = response.json()\n",
    "        movies_df.set_value(index, \"Movie\", json_data['original_title'])\n",
    "        movies_df.set_value(index, \"Release Date\", json_data['release_date'])\n",
    "        movies_df.set_value(index, \"Revenue\", json_data['revenue'])\n",
    "        movies_df.set_value(index,\"Genres\", (json_data['genres'][0])['name'])\n",
    "        index = index + 1\n",
    "    except Exception as e:\n",
    "        print(type(e))\n",
    "        print(str(e))\n",
    "    call_count = call_count + 1"
   ]
  },
  {
   "cell_type": "code",
   "execution_count": 36,
   "metadata": {},
   "outputs": [
    {
     "data": {
      "text/html": [
       "<div>\n",
       "<style scoped>\n",
       "    .dataframe tbody tr th:only-of-type {\n",
       "        vertical-align: middle;\n",
       "    }\n",
       "\n",
       "    .dataframe tbody tr th {\n",
       "        vertical-align: top;\n",
       "    }\n",
       "\n",
       "    .dataframe thead th {\n",
       "        text-align: right;\n",
       "    }\n",
       "</style>\n",
       "<table border=\"1\" class=\"dataframe\">\n",
       "  <thead>\n",
       "    <tr style=\"text-align: right;\">\n",
       "      <th></th>\n",
       "      <th>Movie</th>\n",
       "      <th>Release Date</th>\n",
       "      <th>Revenue</th>\n",
       "      <th>Genres</th>\n",
       "    </tr>\n",
       "  </thead>\n",
       "  <tbody>\n",
       "    <tr>\n",
       "      <th>0</th>\n",
       "      <td>The Wolf of Wall Street</td>\n",
       "      <td>2013-12-25</td>\n",
       "      <td>392000694</td>\n",
       "      <td>Crime</td>\n",
       "    </tr>\n",
       "    <tr>\n",
       "      <th>1</th>\n",
       "      <td>The Wolf of Wall Street</td>\n",
       "      <td>2013-12-25</td>\n",
       "      <td>392000694</td>\n",
       "      <td>Crime</td>\n",
       "    </tr>\n",
       "    <tr>\n",
       "      <th>2</th>\n",
       "      <td>The Wolf of Wall Street</td>\n",
       "      <td>2013-12-25</td>\n",
       "      <td>392000694</td>\n",
       "      <td>Crime</td>\n",
       "    </tr>\n",
       "    <tr>\n",
       "      <th>3</th>\n",
       "      <td>The Wolf of Wall Street</td>\n",
       "      <td>2013-12-25</td>\n",
       "      <td>392000694</td>\n",
       "      <td>Crime</td>\n",
       "    </tr>\n",
       "  </tbody>\n",
       "</table>\n",
       "</div>"
      ],
      "text/plain": [
       "                     Movie Release Date    Revenue Genres\n",
       "0  The Wolf of Wall Street   2013-12-25  392000694  Crime\n",
       "1  The Wolf of Wall Street   2013-12-25  392000694  Crime\n",
       "2  The Wolf of Wall Street   2013-12-25  392000694  Crime\n",
       "3  The Wolf of Wall Street   2013-12-25  392000694  Crime"
      ]
     },
     "execution_count": 36,
     "metadata": {},
     "output_type": "execute_result"
    }
   ],
   "source": [
    "movies_df.head()"
   ]
  },
  {
   "cell_type": "code",
   "execution_count": null,
   "metadata": {},
   "outputs": [],
   "source": []
  }
 ],
 "metadata": {
  "kernelspec": {
   "display_name": "myenvironment",
   "language": "python",
   "name": "myenvironment"
  },
  "language_info": {
   "codemirror_mode": {
    "name": "ipython",
    "version": 3
   },
   "file_extension": ".py",
   "mimetype": "text/x-python",
   "name": "python",
   "nbconvert_exporter": "python",
   "pygments_lexer": "ipython3",
   "version": "3.6.7"
  }
 },
 "nbformat": 4,
 "nbformat_minor": 2
}
